{
 "cells": [
  {
   "cell_type": "code",
   "execution_count": 105,
   "metadata": {},
   "outputs": [],
   "source": [
    "import json\n",
    "import pandas as pd\n",
    "import pickle\n",
    "from pprint import pprint\n",
    "from nltk.corpus import stopwords\n",
    "from nltk.stem import SnowballStemmer\n",
    "from nltk.tokenize import RegexpTokenizer\n",
    "from sklearn.feature_extraction.text import TfidfVectorizer\n",
    "from sklearn.metrics.pairwise import cosine_similarity\n",
    "from scipy import sparse\n",
    "import re\n",
    "import gensim\n",
    "from skimage import io\n",
    "import matplotlib.pyplot as plt\n",
    "from gensim.test.utils import get_tmpfile"
   ]
  },
  {
   "cell_type": "code",
   "execution_count": 106,
   "metadata": {},
   "outputs": [
    {
     "name": "stdout",
     "output_type": "stream",
     "text": [
      "The nltk version is 3.4.\n",
      "The scikit-learn version is 0.20.3.\n"
     ]
    }
   ],
   "source": [
    "import nltk\n",
    "import sklearn\n",
    "\n",
    "print('The nltk version is {}.'.format(nltk.__version__))\n",
    "print('The scikit-learn version is {}.'.format(sklearn.__version__))"
   ]
  },
  {
   "cell_type": "markdown",
   "metadata": {},
   "source": [
    "# Load Data"
   ]
  },
  {
   "cell_type": "code",
   "execution_count": 107,
   "metadata": {},
   "outputs": [],
   "source": [
    "# Load description features\n",
    "courses_filtered = []\n",
    "with open('courses.json') as json_file:\n",
    "    data = json.load(json_file)\n",
    "    for course in data:\n",
    "        course_field = course['fields']\n",
    "        course_field['description'] = course_field['description'].replace('\\n', '')\n",
    "        courses_filtered.append(course_field)\n",
    "\n",
    "courses_df = pd.DataFrame(courses_filtered)"
   ]
  },
  {
   "cell_type": "code",
   "execution_count": 108,
   "metadata": {},
   "outputs": [
    {
     "data": {
      "text/html": [
       "<div>\n",
       "<style scoped>\n",
       "    .dataframe tbody tr th:only-of-type {\n",
       "        vertical-align: middle;\n",
       "    }\n",
       "\n",
       "    .dataframe tbody tr th {\n",
       "        vertical-align: top;\n",
       "    }\n",
       "\n",
       "    .dataframe thead th {\n",
       "        text-align: right;\n",
       "    }\n",
       "</style>\n",
       "<table border=\"1\" class=\"dataframe\">\n",
       "  <thead>\n",
       "    <tr style=\"text-align: right;\">\n",
       "      <th></th>\n",
       "      <th>course_quality</th>\n",
       "      <th>description</th>\n",
       "      <th>difficulty</th>\n",
       "      <th>name</th>\n",
       "      <th>id</th>\n",
       "    </tr>\n",
       "  </thead>\n",
       "  <tbody>\n",
       "    <tr>\n",
       "      <th>0</th>\n",
       "      <td>2.50</td>\n",
       "      <td>This seminar is designed to introduce students...</td>\n",
       "      <td>3.33</td>\n",
       "      <td>Problems in Greek History: Archaic and Classical</td>\n",
       "      <td>ANCH-535</td>\n",
       "    </tr>\n",
       "    <tr>\n",
       "      <th>1</th>\n",
       "      <td>2.80</td>\n",
       "      <td>Topics Varies.</td>\n",
       "      <td>2.60</td>\n",
       "      <td>TOPICS: GREEK/ROMAN ART: BORDERLINES: ROMAN PR...</td>\n",
       "      <td>ARTH-525</td>\n",
       "    </tr>\n",
       "    <tr>\n",
       "      <th>2</th>\n",
       "      <td>3.00</td>\n",
       "      <td>Topic varies.</td>\n",
       "      <td>3.25</td>\n",
       "      <td>TOPICS:ART OF AL-ANDALUS: TEXTILES: DESIGN, TR...</td>\n",
       "      <td>ARTH-538</td>\n",
       "    </tr>\n",
       "    <tr>\n",
       "      <th>3</th>\n",
       "      <td>2.30</td>\n",
       "      <td>Digital methods allow archaeologists to approa...</td>\n",
       "      <td>2.80</td>\n",
       "      <td>INT DIGITAL ARCHAEOLOGY</td>\n",
       "      <td>CLST-362</td>\n",
       "    </tr>\n",
       "    <tr>\n",
       "      <th>4</th>\n",
       "      <td>3.50</td>\n",
       "      <td>This course is intended to familiarize new gra...</td>\n",
       "      <td>2.40</td>\n",
       "      <td>Materials &amp; Methods in Mediterranean Archaeology</td>\n",
       "      <td>CLST-526</td>\n",
       "    </tr>\n",
       "    <tr>\n",
       "      <th>5</th>\n",
       "      <td>3.00</td>\n",
       "      <td>This course exposes students to digital method...</td>\n",
       "      <td>2.75</td>\n",
       "      <td>DIGITAL EXPLORTN OF PAST</td>\n",
       "      <td>NELC-320</td>\n",
       "    </tr>\n",
       "    <tr>\n",
       "      <th>6</th>\n",
       "      <td>2.74</td>\n",
       "      <td>This course is an introduction to the basic co...</td>\n",
       "      <td>3.28</td>\n",
       "      <td>ACCT &amp; FINANCIAL REPORT</td>\n",
       "      <td>ACCT-101</td>\n",
       "    </tr>\n",
       "    <tr>\n",
       "      <th>7</th>\n",
       "      <td>1.32</td>\n",
       "      <td>The first part of the course presents alternat...</td>\n",
       "      <td>3.17</td>\n",
       "      <td>STRATEGIC COST ANALYSIS</td>\n",
       "      <td>ACCT-102</td>\n",
       "    </tr>\n",
       "    <tr>\n",
       "      <th>8</th>\n",
       "      <td>2.45</td>\n",
       "      <td>This course builds on the knowledge you obtain...</td>\n",
       "      <td>3.14</td>\n",
       "      <td>FIN MEASUREMENT &amp; DISCLO</td>\n",
       "      <td>ACCT-212</td>\n",
       "    </tr>\n",
       "    <tr>\n",
       "      <th>9</th>\n",
       "      <td>2.82</td>\n",
       "      <td>In the course, students learn how to analyze f...</td>\n",
       "      <td>2.81</td>\n",
       "      <td>ACCT &amp; BUSINESS ANALYSIS</td>\n",
       "      <td>ACCT-242</td>\n",
       "    </tr>\n",
       "  </tbody>\n",
       "</table>\n",
       "</div>"
      ],
      "text/plain": [
       "  course_quality                                        description  \\\n",
       "0           2.50  This seminar is designed to introduce students...   \n",
       "1           2.80                                    Topics Varies.    \n",
       "2           3.00                                     Topic varies.    \n",
       "3           2.30  Digital methods allow archaeologists to approa...   \n",
       "4           3.50  This course is intended to familiarize new gra...   \n",
       "5           3.00  This course exposes students to digital method...   \n",
       "6           2.74  This course is an introduction to the basic co...   \n",
       "7           1.32  The first part of the course presents alternat...   \n",
       "8           2.45  This course builds on the knowledge you obtain...   \n",
       "9           2.82  In the course, students learn how to analyze f...   \n",
       "\n",
       "  difficulty                                               name        id  \n",
       "0       3.33   Problems in Greek History: Archaic and Classical  ANCH-535  \n",
       "1       2.60  TOPICS: GREEK/ROMAN ART: BORDERLINES: ROMAN PR...  ARTH-525  \n",
       "2       3.25  TOPICS:ART OF AL-ANDALUS: TEXTILES: DESIGN, TR...  ARTH-538  \n",
       "3       2.80                            INT DIGITAL ARCHAEOLOGY  CLST-362  \n",
       "4       2.40   Materials & Methods in Mediterranean Archaeology  CLST-526  \n",
       "5       2.75                           DIGITAL EXPLORTN OF PAST  NELC-320  \n",
       "6       3.28                            ACCT & FINANCIAL REPORT  ACCT-101  \n",
       "7       3.17                            STRATEGIC COST ANALYSIS  ACCT-102  \n",
       "8       3.14                           FIN MEASUREMENT & DISCLO  ACCT-212  \n",
       "9       2.81                           ACCT & BUSINESS ANALYSIS  ACCT-242  "
      ]
     },
     "execution_count": 108,
     "metadata": {},
     "output_type": "execute_result"
    }
   ],
   "source": [
    "# Transforming the schema\n",
    "courses_df = courses_df.rename(columns={'number':'id'})\n",
    "courses_df.head(10)"
   ]
  },
  {
   "cell_type": "markdown",
   "metadata": {},
   "source": [
    "# Clean Data"
   ]
  },
  {
   "cell_type": "code",
   "execution_count": 109,
   "metadata": {},
   "outputs": [],
   "source": [
    "# Functions to clean data to simplify model\n",
    "# Source: https://github.com/dzungpng/niche_perfume_chatbot/blob/master/train_model.ipynb\n",
    "def stem_words(text):\n",
    "    text = text.split()\n",
    "    stemmer = SnowballStemmer('english')\n",
    "    stemmed_words = [stemmer.stem(word) for word in text]\n",
    "    text = \" \".join(stemmed_words)\n",
    "    return text\n",
    "\n",
    "def make_lower_case(text):\n",
    "    return text.lower()\n",
    "\n",
    "def remove_stop_words(text):\n",
    "    text = text.split()\n",
    "    stops = set(stopwords.words(\"english\"))\n",
    "    text = [w for w in text if not w in stops]\n",
    "    text = \" \".join(text)\n",
    "    return text\n",
    "\n",
    "def remove_punctuation(text):\n",
    "    tokenizer = RegexpTokenizer(r'\\w+')\n",
    "    text = tokenizer.tokenize(text)\n",
    "    text = \" \".join(text)\n",
    "    return text"
   ]
  },
  {
   "cell_type": "code",
   "execution_count": 110,
   "metadata": {},
   "outputs": [
    {
     "data": {
      "text/plain": [
       "'The objective of this course is to provide an understanding of financial accounting fundamentals for prospective consumers of corporate financial information, such as managers, stockholders, financial analysts, and creditors. The course focuses on understanding how economic events like corporate investments, financing transactions and operating activities are recorded in the three main financial statements (i.e., the income statement, balance sheet, and statement of cash flows). Along the way, students will develop the technical skills needed to analyze corporate financial statements and disclosures for use in financial analysis, and to interpret how accounting standards and managerial incentives affect the financial reporting process. This course is recommended for students who want a more in-depth overview of the financial accounting required for understanding firm performance and potential future risks through analysis of reported financial information, such as students intending to go into security analysis and investment banking. '"
      ]
     },
     "execution_count": 110,
     "metadata": {},
     "output_type": "execute_result"
    }
   ],
   "source": [
    "courses_df['description'][10]"
   ]
  },
  {
   "cell_type": "code",
   "execution_count": 111,
   "metadata": {},
   "outputs": [],
   "source": [
    "courses_df['description'] = courses_df.description.apply(func=make_lower_case)"
   ]
  },
  {
   "cell_type": "code",
   "execution_count": 112,
   "metadata": {},
   "outputs": [
    {
     "data": {
      "text/plain": [
       "'the objective of this course is to provide an understanding of financial accounting fundamentals for prospective consumers of corporate financial information, such as managers, stockholders, financial analysts, and creditors. the course focuses on understanding how economic events like corporate investments, financing transactions and operating activities are recorded in the three main financial statements (i.e., the income statement, balance sheet, and statement of cash flows). along the way, students will develop the technical skills needed to analyze corporate financial statements and disclosures for use in financial analysis, and to interpret how accounting standards and managerial incentives affect the financial reporting process. this course is recommended for students who want a more in-depth overview of the financial accounting required for understanding firm performance and potential future risks through analysis of reported financial information, such as students intending to go into security analysis and investment banking. '"
      ]
     },
     "execution_count": 112,
     "metadata": {},
     "output_type": "execute_result"
    }
   ],
   "source": [
    "courses_df['description'][10]"
   ]
  },
  {
   "cell_type": "code",
   "execution_count": 113,
   "metadata": {},
   "outputs": [],
   "source": [
    "courses_df['description'] = courses_df.description.apply(func=remove_stop_words)"
   ]
  },
  {
   "cell_type": "code",
   "execution_count": 114,
   "metadata": {},
   "outputs": [
    {
     "data": {
      "text/plain": [
       "'objective course provide understanding financial accounting fundamentals prospective consumers corporate financial information, managers, stockholders, financial analysts, creditors. course focuses understanding economic events like corporate investments, financing transactions operating activities recorded three main financial statements (i.e., income statement, balance sheet, statement cash flows). along way, students develop technical skills needed analyze corporate financial statements disclosures use financial analysis, interpret accounting standards managerial incentives affect financial reporting process. course recommended students want in-depth overview financial accounting required understanding firm performance potential future risks analysis reported financial information, students intending go security analysis investment banking.'"
      ]
     },
     "execution_count": 114,
     "metadata": {},
     "output_type": "execute_result"
    }
   ],
   "source": [
    "courses_df['description'][10]"
   ]
  },
  {
   "cell_type": "code",
   "execution_count": 115,
   "metadata": {},
   "outputs": [],
   "source": [
    "courses_df['description'] = courses_df.description.apply(func=remove_punctuation)"
   ]
  },
  {
   "cell_type": "code",
   "execution_count": 116,
   "metadata": {},
   "outputs": [
    {
     "data": {
      "text/plain": [
       "'objective course provide understanding financial accounting fundamentals prospective consumers corporate financial information managers stockholders financial analysts creditors course focuses understanding economic events like corporate investments financing transactions operating activities recorded three main financial statements i e income statement balance sheet statement cash flows along way students develop technical skills needed analyze corporate financial statements disclosures use financial analysis interpret accounting standards managerial incentives affect financial reporting process course recommended students want in depth overview financial accounting required understanding firm performance potential future risks analysis reported financial information students intending go security analysis investment banking'"
      ]
     },
     "execution_count": 116,
     "metadata": {},
     "output_type": "execute_result"
    }
   ],
   "source": [
    "courses_df['description'][10]"
   ]
  },
  {
   "cell_type": "code",
   "execution_count": 117,
   "metadata": {},
   "outputs": [],
   "source": [
    "courses_df['description'] = courses_df.description.apply(func=stem_words)"
   ]
  },
  {
   "cell_type": "code",
   "execution_count": 118,
   "metadata": {},
   "outputs": [
    {
     "data": {
      "text/plain": [
       "'object cours provid understand financi account fundament prospect consum corpor financi inform manag stockhold financi analyst creditor cours focus understand econom event like corpor invest financ transact oper activ record three main financi statement i e incom statement balanc sheet statement cash flow along way student develop technic skill need analyz corpor financi statement disclosur use financi analysi interpret account standard manageri incent affect financi report process cours recommend student want in depth overview financi account requir understand firm perform potenti futur risk analysi report financi inform student intend go secur analysi invest bank'"
      ]
     },
     "execution_count": 118,
     "metadata": {},
     "output_type": "execute_result"
    }
   ],
   "source": [
    "courses_df['description'][10]"
   ]
  },
  {
   "cell_type": "code",
   "execution_count": 119,
   "metadata": {},
   "outputs": [],
   "source": [
    "courses_df['name'] = courses_df.name.apply(func=make_lower_case)\n",
    "courses_df['name'] = courses_df.name.apply(func=remove_stop_words)\n",
    "courses_df['name'] = courses_df.name.apply(func=remove_punctuation)\n",
    "courses_df['name'] = courses_df.name.apply(func=stem_words)"
   ]
  },
  {
   "cell_type": "code",
   "execution_count": 120,
   "metadata": {},
   "outputs": [
    {
     "data": {
      "text/html": [
       "<div>\n",
       "<style scoped>\n",
       "    .dataframe tbody tr th:only-of-type {\n",
       "        vertical-align: middle;\n",
       "    }\n",
       "\n",
       "    .dataframe tbody tr th {\n",
       "        vertical-align: top;\n",
       "    }\n",
       "\n",
       "    .dataframe thead th {\n",
       "        text-align: right;\n",
       "    }\n",
       "</style>\n",
       "<table border=\"1\" class=\"dataframe\">\n",
       "  <thead>\n",
       "    <tr style=\"text-align: right;\">\n",
       "      <th></th>\n",
       "      <th>course_quality</th>\n",
       "      <th>description</th>\n",
       "      <th>difficulty</th>\n",
       "      <th>name</th>\n",
       "      <th>id</th>\n",
       "    </tr>\n",
       "  </thead>\n",
       "  <tbody>\n",
       "    <tr>\n",
       "      <th>0</th>\n",
       "      <td>2.50</td>\n",
       "      <td>seminar design introduc student major issu pro...</td>\n",
       "      <td>3.33</td>\n",
       "      <td>problem greek histori archaic classic</td>\n",
       "      <td>ANCH-535</td>\n",
       "    </tr>\n",
       "    <tr>\n",
       "      <th>1</th>\n",
       "      <td>2.80</td>\n",
       "      <td>topic vari</td>\n",
       "      <td>2.60</td>\n",
       "      <td>topic greek roman art borderlin roman provinci...</td>\n",
       "      <td>ARTH-525</td>\n",
       "    </tr>\n",
       "    <tr>\n",
       "      <th>2</th>\n",
       "      <td>3.00</td>\n",
       "      <td>topic vari</td>\n",
       "      <td>3.25</td>\n",
       "      <td>topic art al andalus textil design trade mean</td>\n",
       "      <td>ARTH-538</td>\n",
       "    </tr>\n",
       "    <tr>\n",
       "      <th>3</th>\n",
       "      <td>2.30</td>\n",
       "      <td>digit method allow archaeologist approach rese...</td>\n",
       "      <td>2.80</td>\n",
       "      <td>int digit archaeolog</td>\n",
       "      <td>CLST-362</td>\n",
       "    </tr>\n",
       "    <tr>\n",
       "      <th>4</th>\n",
       "      <td>3.50</td>\n",
       "      <td>cours intend familiar new graduat student coll...</td>\n",
       "      <td>2.40</td>\n",
       "      <td>materi method mediterranean archaeolog</td>\n",
       "      <td>CLST-526</td>\n",
       "    </tr>\n",
       "    <tr>\n",
       "      <th>5</th>\n",
       "      <td>3.00</td>\n",
       "      <td>cours expos student digit method investig past...</td>\n",
       "      <td>2.75</td>\n",
       "      <td>digit explortn past</td>\n",
       "      <td>NELC-320</td>\n",
       "    </tr>\n",
       "    <tr>\n",
       "      <th>6</th>\n",
       "      <td>2.74</td>\n",
       "      <td>cours introduct basic concept standard under f...</td>\n",
       "      <td>3.28</td>\n",
       "      <td>acct financi report</td>\n",
       "      <td>ACCT-101</td>\n",
       "    </tr>\n",
       "    <tr>\n",
       "      <th>7</th>\n",
       "      <td>1.32</td>\n",
       "      <td>first part cours present altern method prepar ...</td>\n",
       "      <td>3.17</td>\n",
       "      <td>strateg cost analysi</td>\n",
       "      <td>ACCT-102</td>\n",
       "    </tr>\n",
       "    <tr>\n",
       "      <th>8</th>\n",
       "      <td>2.45</td>\n",
       "      <td>cours build knowledg obtain introductori finan...</td>\n",
       "      <td>3.14</td>\n",
       "      <td>fin measur disclo</td>\n",
       "      <td>ACCT-212</td>\n",
       "    </tr>\n",
       "    <tr>\n",
       "      <th>9</th>\n",
       "      <td>2.82</td>\n",
       "      <td>cours student learn analyz firm financi statem...</td>\n",
       "      <td>2.81</td>\n",
       "      <td>acct busi analysi</td>\n",
       "      <td>ACCT-242</td>\n",
       "    </tr>\n",
       "  </tbody>\n",
       "</table>\n",
       "</div>"
      ],
      "text/plain": [
       "  course_quality                                        description  \\\n",
       "0           2.50  seminar design introduc student major issu pro...   \n",
       "1           2.80                                         topic vari   \n",
       "2           3.00                                         topic vari   \n",
       "3           2.30  digit method allow archaeologist approach rese...   \n",
       "4           3.50  cours intend familiar new graduat student coll...   \n",
       "5           3.00  cours expos student digit method investig past...   \n",
       "6           2.74  cours introduct basic concept standard under f...   \n",
       "7           1.32  first part cours present altern method prepar ...   \n",
       "8           2.45  cours build knowledg obtain introductori finan...   \n",
       "9           2.82  cours student learn analyz firm financi statem...   \n",
       "\n",
       "  difficulty                                               name        id  \n",
       "0       3.33              problem greek histori archaic classic  ANCH-535  \n",
       "1       2.60  topic greek roman art borderlin roman provinci...  ARTH-525  \n",
       "2       3.25      topic art al andalus textil design trade mean  ARTH-538  \n",
       "3       2.80                               int digit archaeolog  CLST-362  \n",
       "4       2.40             materi method mediterranean archaeolog  CLST-526  \n",
       "5       2.75                                digit explortn past  NELC-320  \n",
       "6       3.28                                acct financi report  ACCT-101  \n",
       "7       3.17                               strateg cost analysi  ACCT-102  \n",
       "8       3.14                                  fin measur disclo  ACCT-212  \n",
       "9       2.81                                  acct busi analysi  ACCT-242  "
      ]
     },
     "execution_count": 120,
     "metadata": {},
     "output_type": "execute_result"
    }
   ],
   "source": [
    "courses_df.head(10)"
   ]
  },
  {
   "cell_type": "markdown",
   "metadata": {},
   "source": [
    "# TF-IDF Model"
   ]
  },
  {
   "cell_type": "code",
   "execution_count": 121,
   "metadata": {},
   "outputs": [],
   "source": [
    "courses_df['full_text'] = courses_df['name'] + ' ' + courses_df['description']"
   ]
  },
  {
   "cell_type": "code",
   "execution_count": 133,
   "metadata": {},
   "outputs": [
    {
     "name": "stdout",
     "output_type": "stream",
     "text": [
      "(1350, 10000)\n"
     ]
    }
   ],
   "source": [
    "#Fit TFIDF \n",
    "# Convert raw text describing courses to a matrix of TF-IDF features.\n",
    "tf = TfidfVectorizer(analyzer='word', \n",
    "                     min_df=2,\n",
    "                     ngram_range=(1, 2),\n",
    "                     stop_words='english',\n",
    "                     max_features=10000,)\n",
    "tf.fit(courses_df['full_text'])\n",
    "\n",
    "#Transform full_text to document-term matrix.\n",
    "tfidf_matrix = tf.transform(courses_df['full_text'])\n",
    "pickle.dump(tf, open(\"models/tfidf_model.pkl\", \"wb\"))\n",
    "\n",
    "print(tfidf_matrix.shape)"
   ]
  },
  {
   "cell_type": "code",
   "execution_count": 135,
   "metadata": {},
   "outputs": [
    {
     "name": "stdout",
     "output_type": "stream",
     "text": [
      "(1350, 500)\n"
     ]
    }
   ],
   "source": [
    "# Compress with SVD\n",
    "from sklearn.decomposition import TruncatedSVD\n",
    "svd = TruncatedSVD(n_components=500)\n",
    "latent_matrix = svd.fit_transform(tfidf_matrix)\n",
    "pickle.dump(svd, open(\"models/svd_model.pkl\", \"wb\"))\n",
    "\n",
    "print(latent_matrix.shape)"
   ]
  },
  {
   "cell_type": "code",
   "execution_count": 146,
   "metadata": {},
   "outputs": [
    {
     "name": "stdout",
     "output_type": "stream",
     "text": [
      "(1350, 25)\n"
     ]
    }
   ],
   "source": [
    "# Source: https://en.wikipedia.org/wiki/Latent_semantic_analysis\n",
    "# LSA\n",
    "n = 25 #pick components\n",
    "#Use elbow and cumulative plot to pick number of components. \n",
    "#Need high ammount of variance explained. \n",
    "doc_labels = courses_df.id\n",
    "svd_feature_matrix = pd.DataFrame(latent_matrix[:,0:n] ,index=doc_labels)\n",
    "print(svd_feature_matrix.shape)\n",
    "pickle.dump(svd_feature_matrix, open(\"models/lsa_embeddings.pkl\", \"wb\"))"
   ]
  },
  {
   "cell_type": "code",
   "execution_count": 147,
   "metadata": {},
   "outputs": [
    {
     "data": {
      "text/html": [
       "<div>\n",
       "<style scoped>\n",
       "    .dataframe tbody tr th:only-of-type {\n",
       "        vertical-align: middle;\n",
       "    }\n",
       "\n",
       "    .dataframe tbody tr th {\n",
       "        vertical-align: top;\n",
       "    }\n",
       "\n",
       "    .dataframe thead th {\n",
       "        text-align: right;\n",
       "    }\n",
       "</style>\n",
       "<table border=\"1\" class=\"dataframe\">\n",
       "  <thead>\n",
       "    <tr style=\"text-align: right;\">\n",
       "      <th></th>\n",
       "      <th>0</th>\n",
       "      <th>1</th>\n",
       "      <th>2</th>\n",
       "      <th>3</th>\n",
       "      <th>4</th>\n",
       "      <th>5</th>\n",
       "      <th>6</th>\n",
       "      <th>7</th>\n",
       "      <th>8</th>\n",
       "      <th>9</th>\n",
       "      <th>...</th>\n",
       "      <th>15</th>\n",
       "      <th>16</th>\n",
       "      <th>17</th>\n",
       "      <th>18</th>\n",
       "      <th>19</th>\n",
       "      <th>20</th>\n",
       "      <th>21</th>\n",
       "      <th>22</th>\n",
       "      <th>23</th>\n",
       "      <th>24</th>\n",
       "    </tr>\n",
       "    <tr>\n",
       "      <th>id</th>\n",
       "      <th></th>\n",
       "      <th></th>\n",
       "      <th></th>\n",
       "      <th></th>\n",
       "      <th></th>\n",
       "      <th></th>\n",
       "      <th></th>\n",
       "      <th></th>\n",
       "      <th></th>\n",
       "      <th></th>\n",
       "      <th></th>\n",
       "      <th></th>\n",
       "      <th></th>\n",
       "      <th></th>\n",
       "      <th></th>\n",
       "      <th></th>\n",
       "      <th></th>\n",
       "      <th></th>\n",
       "      <th></th>\n",
       "      <th></th>\n",
       "      <th></th>\n",
       "    </tr>\n",
       "  </thead>\n",
       "  <tbody>\n",
       "    <tr>\n",
       "      <th>ANCH-535</th>\n",
       "      <td>0.176490</td>\n",
       "      <td>-0.005958</td>\n",
       "      <td>0.049331</td>\n",
       "      <td>0.014055</td>\n",
       "      <td>-0.105690</td>\n",
       "      <td>-0.091895</td>\n",
       "      <td>-0.065494</td>\n",
       "      <td>0.019608</td>\n",
       "      <td>-0.020193</td>\n",
       "      <td>0.044704</td>\n",
       "      <td>...</td>\n",
       "      <td>-0.008524</td>\n",
       "      <td>-0.099411</td>\n",
       "      <td>-0.010769</td>\n",
       "      <td>0.006509</td>\n",
       "      <td>-0.100045</td>\n",
       "      <td>-0.091037</td>\n",
       "      <td>0.058790</td>\n",
       "      <td>0.036166</td>\n",
       "      <td>0.028401</td>\n",
       "      <td>-0.003187</td>\n",
       "    </tr>\n",
       "    <tr>\n",
       "      <th>ARTH-525</th>\n",
       "      <td>0.075565</td>\n",
       "      <td>-0.000674</td>\n",
       "      <td>0.195844</td>\n",
       "      <td>0.033918</td>\n",
       "      <td>0.009376</td>\n",
       "      <td>-0.047781</td>\n",
       "      <td>-0.083609</td>\n",
       "      <td>-0.021715</td>\n",
       "      <td>0.039739</td>\n",
       "      <td>0.246980</td>\n",
       "      <td>...</td>\n",
       "      <td>0.018817</td>\n",
       "      <td>-0.128903</td>\n",
       "      <td>-0.030570</td>\n",
       "      <td>0.096258</td>\n",
       "      <td>-0.144751</td>\n",
       "      <td>0.038616</td>\n",
       "      <td>0.009010</td>\n",
       "      <td>0.248528</td>\n",
       "      <td>-0.005438</td>\n",
       "      <td>0.047772</td>\n",
       "    </tr>\n",
       "    <tr>\n",
       "      <th>ARTH-538</th>\n",
       "      <td>0.144649</td>\n",
       "      <td>0.044863</td>\n",
       "      <td>0.266840</td>\n",
       "      <td>0.051481</td>\n",
       "      <td>0.087524</td>\n",
       "      <td>-0.071968</td>\n",
       "      <td>-0.051486</td>\n",
       "      <td>-0.040071</td>\n",
       "      <td>0.010027</td>\n",
       "      <td>0.362457</td>\n",
       "      <td>...</td>\n",
       "      <td>-0.073720</td>\n",
       "      <td>-0.077759</td>\n",
       "      <td>-0.075820</td>\n",
       "      <td>0.086629</td>\n",
       "      <td>-0.099764</td>\n",
       "      <td>0.149118</td>\n",
       "      <td>-0.057479</td>\n",
       "      <td>0.322557</td>\n",
       "      <td>0.071267</td>\n",
       "      <td>0.070394</td>\n",
       "    </tr>\n",
       "    <tr>\n",
       "      <th>CLST-362</th>\n",
       "      <td>0.214006</td>\n",
       "      <td>-0.044021</td>\n",
       "      <td>-0.050112</td>\n",
       "      <td>-0.105180</td>\n",
       "      <td>0.114911</td>\n",
       "      <td>-0.020590</td>\n",
       "      <td>-0.044175</td>\n",
       "      <td>0.251156</td>\n",
       "      <td>-0.015373</td>\n",
       "      <td>-0.029016</td>\n",
       "      <td>...</td>\n",
       "      <td>0.082913</td>\n",
       "      <td>0.018901</td>\n",
       "      <td>-0.116201</td>\n",
       "      <td>0.065470</td>\n",
       "      <td>-0.006971</td>\n",
       "      <td>-0.091077</td>\n",
       "      <td>0.023466</td>\n",
       "      <td>0.010272</td>\n",
       "      <td>0.037646</td>\n",
       "      <td>-0.043956</td>\n",
       "    </tr>\n",
       "    <tr>\n",
       "      <th>CLST-526</th>\n",
       "      <td>0.186969</td>\n",
       "      <td>-0.035699</td>\n",
       "      <td>0.003199</td>\n",
       "      <td>-0.069234</td>\n",
       "      <td>0.001375</td>\n",
       "      <td>0.008379</td>\n",
       "      <td>-0.053332</td>\n",
       "      <td>0.103371</td>\n",
       "      <td>-0.067626</td>\n",
       "      <td>0.021249</td>\n",
       "      <td>...</td>\n",
       "      <td>0.044595</td>\n",
       "      <td>-0.053396</td>\n",
       "      <td>-0.013292</td>\n",
       "      <td>-0.006504</td>\n",
       "      <td>-0.026690</td>\n",
       "      <td>-0.081879</td>\n",
       "      <td>0.084164</td>\n",
       "      <td>-0.063896</td>\n",
       "      <td>0.033069</td>\n",
       "      <td>-0.030238</td>\n",
       "    </tr>\n",
       "  </tbody>\n",
       "</table>\n",
       "<p>5 rows × 25 columns</p>\n",
       "</div>"
      ],
      "text/plain": [
       "                0         1         2         3         4         5   \\\n",
       "id                                                                     \n",
       "ANCH-535  0.176490 -0.005958  0.049331  0.014055 -0.105690 -0.091895   \n",
       "ARTH-525  0.075565 -0.000674  0.195844  0.033918  0.009376 -0.047781   \n",
       "ARTH-538  0.144649  0.044863  0.266840  0.051481  0.087524 -0.071968   \n",
       "CLST-362  0.214006 -0.044021 -0.050112 -0.105180  0.114911 -0.020590   \n",
       "CLST-526  0.186969 -0.035699  0.003199 -0.069234  0.001375  0.008379   \n",
       "\n",
       "                6         7         8         9   ...        15        16  \\\n",
       "id                                                ...                       \n",
       "ANCH-535 -0.065494  0.019608 -0.020193  0.044704  ... -0.008524 -0.099411   \n",
       "ARTH-525 -0.083609 -0.021715  0.039739  0.246980  ...  0.018817 -0.128903   \n",
       "ARTH-538 -0.051486 -0.040071  0.010027  0.362457  ... -0.073720 -0.077759   \n",
       "CLST-362 -0.044175  0.251156 -0.015373 -0.029016  ...  0.082913  0.018901   \n",
       "CLST-526 -0.053332  0.103371 -0.067626  0.021249  ...  0.044595 -0.053396   \n",
       "\n",
       "                17        18        19        20        21        22  \\\n",
       "id                                                                     \n",
       "ANCH-535 -0.010769  0.006509 -0.100045 -0.091037  0.058790  0.036166   \n",
       "ARTH-525 -0.030570  0.096258 -0.144751  0.038616  0.009010  0.248528   \n",
       "ARTH-538 -0.075820  0.086629 -0.099764  0.149118 -0.057479  0.322557   \n",
       "CLST-362 -0.116201  0.065470 -0.006971 -0.091077  0.023466  0.010272   \n",
       "CLST-526 -0.013292 -0.006504 -0.026690 -0.081879  0.084164 -0.063896   \n",
       "\n",
       "                23        24  \n",
       "id                            \n",
       "ANCH-535  0.028401 -0.003187  \n",
       "ARTH-525 -0.005438  0.047772  \n",
       "ARTH-538  0.071267  0.070394  \n",
       "CLST-362  0.037646 -0.043956  \n",
       "CLST-526  0.033069 -0.030238  \n",
       "\n",
       "[5 rows x 25 columns]"
      ]
     },
     "execution_count": 147,
     "metadata": {},
     "output_type": "execute_result"
    }
   ],
   "source": [
    "svd_feature_matrix.head()"
   ]
  },
  {
   "cell_type": "code",
   "execution_count": 141,
   "metadata": {},
   "outputs": [
    {
     "name": "stdout",
     "output_type": "stream",
     "text": [
      "-rw-r--r--  1 dzungnguyen  staff    38M Jul 28 11:15 models/svd_model.pkl\r\n"
     ]
    }
   ],
   "source": [
    " !ls -lh models/svd_model.pkl"
   ]
  },
  {
   "cell_type": "code",
   "execution_count": 142,
   "metadata": {},
   "outputs": [
    {
     "name": "stdout",
     "output_type": "stream",
     "text": [
      "-rw-r--r--  1 dzungnguyen  staff   1.8M Jul 28 11:13 models/tfidf_model.pkl\r\n"
     ]
    }
   ],
   "source": [
    " !ls -lh models/tfidf_model.pkl"
   ]
  },
  {
   "cell_type": "code",
   "execution_count": 148,
   "metadata": {},
   "outputs": [
    {
     "name": "stdout",
     "output_type": "stream",
     "text": [
      "-rw-r--r--  1 dzungnguyen  staff   287K Jul 28 11:28 models/lsa_embeddings.pkl\r\n"
     ]
    }
   ],
   "source": [
    " !ls -lh models/lsa_embeddings.pkl"
   ]
  },
  {
   "cell_type": "markdown",
   "metadata": {},
   "source": [
    "# Doc2Vec Model"
   ]
  },
  {
   "cell_type": "code",
   "execution_count": null,
   "metadata": {},
   "outputs": [],
   "source": [
    "#Use reviews, descriptions, and notes for vocabulary \n",
    "reviews = courses_df.reviews.values.tolist()\n",
    "descriptions = df.description.values.tolist()\n",
    "#notes = df.notes.values.tolist() #not using notes because sematics and order of list is not meaningfull. \n",
    "\n",
    "documents = []\n",
    "for i in range(len(df)):\n",
    "    mystr = reviews[i]\n",
    "    mystr = mystr + descriptions[i]\n",
    "    documents.append(re.sub(\"[^\\w]\", \" \",  mystr).split())"
   ]
  },
  {
   "cell_type": "code",
   "execution_count": null,
   "metadata": {},
   "outputs": [],
   "source": [
    "print len(df)\n",
    "print len(documents)"
   ]
  }
 ],
 "metadata": {
  "kernelspec": {
   "display_name": "Python 3",
   "language": "python",
   "name": "python3"
  },
  "language_info": {
   "codemirror_mode": {
    "name": "ipython",
    "version": 3
   },
   "file_extension": ".py",
   "mimetype": "text/x-python",
   "name": "python",
   "nbconvert_exporter": "python",
   "pygments_lexer": "ipython3",
   "version": "3.7.3"
  }
 },
 "nbformat": 4,
 "nbformat_minor": 2
}
