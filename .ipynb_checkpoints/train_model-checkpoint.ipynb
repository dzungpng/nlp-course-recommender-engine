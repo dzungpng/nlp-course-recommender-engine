{
 "cells": [
  {
   "cell_type": "code",
   "execution_count": 105,
   "metadata": {},
   "outputs": [],
   "source": [
    "import json\n",
    "import pandas as pd\n",
    "import pickle\n",
    "from pprint import pprint\n",
    "from nltk.corpus import stopwords\n",
    "from nltk.stem import SnowballStemmer\n",
    "from nltk.tokenize import RegexpTokenizer\n",
    "from sklearn.feature_extraction.text import TfidfVectorizer\n",
    "from sklearn.metrics.pairwise import cosine_similarity\n",
    "from scipy import sparse\n",
    "import re\n",
    "import gensim\n",
    "from skimage import io\n",
    "import matplotlib.pyplot as plt\n",
    "from gensim.test.utils import get_tmpfile"
   ]
  },
  {
   "cell_type": "code",
   "execution_count": 106,
   "metadata": {},
   "outputs": [
    {
     "name": "stdout",
     "output_type": "stream",
     "text": [
      "The nltk version is 3.4.\n",
      "The scikit-learn version is 0.20.3.\n"
     ]
    }
   ],
   "source": [
    "import nltk\n",
    "import sklearn\n",
    "\n",
    "print('The nltk version is {}.'.format(nltk.__version__))\n",
    "print('The scikit-learn version is {}.'.format(sklearn.__version__))"
   ]
  },
  {
   "cell_type": "markdown",
   "metadata": {},
   "source": [
    "# Load Data"
   ]
  },
  {
   "cell_type": "code",
   "execution_count": 107,
   "metadata": {},
   "outputs": [],
   "source": [
    "# Load description features\n",
    "courses_filtered = []\n",
    "with open('courses.json') as json_file:\n",
    "    data = json.load(json_file)\n",
    "    for course in data:\n",
    "        course_field = course['fields']\n",
    "        course_field['description'] = course_field['description'].replace('\\n', '')\n",
    "        courses_filtered.append(course_field)\n",
    "\n",
    "courses_df = pd.DataFrame(courses_filtered)"
   ]
  },
  {
   "cell_type": "code",
   "execution_count": 108,
   "metadata": {},
   "outputs": [
    {
     "data": {
      "text/html": [
       "<div>\n",
       "<style scoped>\n",
       "    .dataframe tbody tr th:only-of-type {\n",
       "        vertical-align: middle;\n",
       "    }\n",
       "\n",
       "    .dataframe tbody tr th {\n",
       "        vertical-align: top;\n",
       "    }\n",
       "\n",
       "    .dataframe thead th {\n",
       "        text-align: right;\n",
       "    }\n",
       "</style>\n",
       "<table border=\"1\" class=\"dataframe\">\n",
       "  <thead>\n",
       "    <tr style=\"text-align: right;\">\n",
       "      <th></th>\n",
       "      <th>course_quality</th>\n",
       "      <th>description</th>\n",
       "      <th>difficulty</th>\n",
       "      <th>name</th>\n",
       "      <th>id</th>\n",
       "    </tr>\n",
       "  </thead>\n",
       "  <tbody>\n",
       "    <tr>\n",
       "      <th>0</th>\n",
       "      <td>2.50</td>\n",
       "      <td>This seminar is designed to introduce students...</td>\n",
       "      <td>3.33</td>\n",
       "      <td>Problems in Greek History: Archaic and Classical</td>\n",
       "      <td>ANCH-535</td>\n",
       "    </tr>\n",
       "    <tr>\n",
       "      <th>1</th>\n",
       "      <td>2.80</td>\n",
       "      <td>Topics Varies.</td>\n",
       "      <td>2.60</td>\n",
       "      <td>TOPICS: GREEK/ROMAN ART: BORDERLINES: ROMAN PR...</td>\n",
       "      <td>ARTH-525</td>\n",
       "    </tr>\n",
       "    <tr>\n",
       "      <th>2</th>\n",
       "      <td>3.00</td>\n",
       "      <td>Topic varies.</td>\n",
       "      <td>3.25</td>\n",
       "      <td>TOPICS:ART OF AL-ANDALUS: TEXTILES: DESIGN, TR...</td>\n",
       "      <td>ARTH-538</td>\n",
       "    </tr>\n",
       "    <tr>\n",
       "      <th>3</th>\n",
       "      <td>2.30</td>\n",
       "      <td>Digital methods allow archaeologists to approa...</td>\n",
       "      <td>2.80</td>\n",
       "      <td>INT DIGITAL ARCHAEOLOGY</td>\n",
       "      <td>CLST-362</td>\n",
       "    </tr>\n",
       "    <tr>\n",
       "      <th>4</th>\n",
       "      <td>3.50</td>\n",
       "      <td>This course is intended to familiarize new gra...</td>\n",
       "      <td>2.40</td>\n",
       "      <td>Materials &amp; Methods in Mediterranean Archaeology</td>\n",
       "      <td>CLST-526</td>\n",
       "    </tr>\n",
       "    <tr>\n",
       "      <th>5</th>\n",
       "      <td>3.00</td>\n",
       "      <td>This course exposes students to digital method...</td>\n",
       "      <td>2.75</td>\n",
       "      <td>DIGITAL EXPLORTN OF PAST</td>\n",
       "      <td>NELC-320</td>\n",
       "    </tr>\n",
       "    <tr>\n",
       "      <th>6</th>\n",
       "      <td>2.74</td>\n",
       "      <td>This course is an introduction to the basic co...</td>\n",
       "      <td>3.28</td>\n",
       "      <td>ACCT &amp; FINANCIAL REPORT</td>\n",
       "      <td>ACCT-101</td>\n",
       "    </tr>\n",
       "    <tr>\n",
       "      <th>7</th>\n",
       "      <td>1.32</td>\n",
       "      <td>The first part of the course presents alternat...</td>\n",
       "      <td>3.17</td>\n",
       "      <td>STRATEGIC COST ANALYSIS</td>\n",
       "      <td>ACCT-102</td>\n",
       "    </tr>\n",
       "    <tr>\n",
       "      <th>8</th>\n",
       "      <td>2.45</td>\n",
       "      <td>This course builds on the knowledge you obtain...</td>\n",
       "      <td>3.14</td>\n",
       "      <td>FIN MEASUREMENT &amp; DISCLO</td>\n",
       "      <td>ACCT-212</td>\n",
       "    </tr>\n",
       "    <tr>\n",
       "      <th>9</th>\n",
       "      <td>2.82</td>\n",
       "      <td>In the course, students learn how to analyze f...</td>\n",
       "      <td>2.81</td>\n",
       "      <td>ACCT &amp; BUSINESS ANALYSIS</td>\n",
       "      <td>ACCT-242</td>\n",
       "    </tr>\n",
       "  </tbody>\n",
       "</table>\n",
       "</div>"
      ],
      "text/plain": [
       "  course_quality                                        description  \\\n",
       "0           2.50  This seminar is designed to introduce students...   \n",
       "1           2.80                                    Topics Varies.    \n",
       "2           3.00                                     Topic varies.    \n",
       "3           2.30  Digital methods allow archaeologists to approa...   \n",
       "4           3.50  This course is intended to familiarize new gra...   \n",
       "5           3.00  This course exposes students to digital method...   \n",
       "6           2.74  This course is an introduction to the basic co...   \n",
       "7           1.32  The first part of the course presents alternat...   \n",
       "8           2.45  This course builds on the knowledge you obtain...   \n",
       "9           2.82  In the course, students learn how to analyze f...   \n",
       "\n",
       "  difficulty                                               name        id  \n",
       "0       3.33   Problems in Greek History: Archaic and Classical  ANCH-535  \n",
       "1       2.60  TOPICS: GREEK/ROMAN ART: BORDERLINES: ROMAN PR...  ARTH-525  \n",
       "2       3.25  TOPICS:ART OF AL-ANDALUS: TEXTILES: DESIGN, TR...  ARTH-538  \n",
       "3       2.80                            INT DIGITAL ARCHAEOLOGY  CLST-362  \n",
       "4       2.40   Materials & Methods in Mediterranean Archaeology  CLST-526  \n",
       "5       2.75                           DIGITAL EXPLORTN OF PAST  NELC-320  \n",
       "6       3.28                            ACCT & FINANCIAL REPORT  ACCT-101  \n",
       "7       3.17                            STRATEGIC COST ANALYSIS  ACCT-102  \n",
       "8       3.14                           FIN MEASUREMENT & DISCLO  ACCT-212  \n",
       "9       2.81                           ACCT & BUSINESS ANALYSIS  ACCT-242  "
      ]
     },
     "execution_count": 108,
     "metadata": {},
     "output_type": "execute_result"
    }
   ],
   "source": [
    "# Transforming the schema\n",
    "courses_df = courses_df.rename(columns={'number':'id'})\n",
    "courses_df.head(10)"
   ]
  },
  {
   "cell_type": "markdown",
   "metadata": {},
   "source": [
    "# Clean Data"
   ]
  },
  {
   "cell_type": "code",
   "execution_count": 109,
   "metadata": {},
   "outputs": [],
   "source": [
    "# Functions to clean data to simplify model\n",
    "# Source: https://github.com/dzungpng/niche_perfume_chatbot/blob/master/train_model.ipynb\n",
    "def stem_words(text):\n",
    "    text = text.split()\n",
    "    stemmer = SnowballStemmer('english')\n",
    "    stemmed_words = [stemmer.stem(word) for word in text]\n",
    "    text = \" \".join(stemmed_words)\n",
    "    return text\n",
    "\n",
    "def make_lower_case(text):\n",
    "    return text.lower()\n",
    "\n",
    "def remove_stop_words(text):\n",
    "    text = text.split()\n",
    "    stops = set(stopwords.words(\"english\"))\n",
    "    text = [w for w in text if not w in stops]\n",
    "    text = \" \".join(text)\n",
    "    return text\n",
    "\n",
    "def remove_punctuation(text):\n",
    "    tokenizer = RegexpTokenizer(r'\\w+')\n",
    "    text = tokenizer.tokenize(text)\n",
    "    text = \" \".join(text)\n",
    "    return text"
   ]
  },
  {
   "cell_type": "code",
   "execution_count": 110,
   "metadata": {},
   "outputs": [
    {
     "data": {
      "text/plain": [
       "'The objective of this course is to provide an understanding of financial accounting fundamentals for prospective consumers of corporate financial information, such as managers, stockholders, financial analysts, and creditors. The course focuses on understanding how economic events like corporate investments, financing transactions and operating activities are recorded in the three main financial statements (i.e., the income statement, balance sheet, and statement of cash flows). Along the way, students will develop the technical skills needed to analyze corporate financial statements and disclosures for use in financial analysis, and to interpret how accounting standards and managerial incentives affect the financial reporting process. This course is recommended for students who want a more in-depth overview of the financial accounting required for understanding firm performance and potential future risks through analysis of reported financial information, such as students intending to go into security analysis and investment banking. '"
      ]
     },
     "execution_count": 110,
     "metadata": {},
     "output_type": "execute_result"
    }
   ],
   "source": [
    "courses_df['description'][10]"
   ]
  },
  {
   "cell_type": "code",
   "execution_count": 111,
   "metadata": {},
   "outputs": [],
   "source": [
    "courses_df['description'] = courses_df.description.apply(func=make_lower_case)"
   ]
  },
  {
   "cell_type": "code",
   "execution_count": 112,
   "metadata": {},
   "outputs": [
    {
     "data": {
      "text/plain": [
       "'the objective of this course is to provide an understanding of financial accounting fundamentals for prospective consumers of corporate financial information, such as managers, stockholders, financial analysts, and creditors. the course focuses on understanding how economic events like corporate investments, financing transactions and operating activities are recorded in the three main financial statements (i.e., the income statement, balance sheet, and statement of cash flows). along the way, students will develop the technical skills needed to analyze corporate financial statements and disclosures for use in financial analysis, and to interpret how accounting standards and managerial incentives affect the financial reporting process. this course is recommended for students who want a more in-depth overview of the financial accounting required for understanding firm performance and potential future risks through analysis of reported financial information, such as students intending to go into security analysis and investment banking. '"
      ]
     },
     "execution_count": 112,
     "metadata": {},
     "output_type": "execute_result"
    }
   ],
   "source": [
    "courses_df['description'][10]"
   ]
  },
  {
   "cell_type": "code",
   "execution_count": 113,
   "metadata": {},
   "outputs": [],
   "source": [
    "courses_df['description'] = courses_df.description.apply(func=remove_stop_words)"
   ]
  },
  {
   "cell_type": "code",
   "execution_count": 114,
   "metadata": {},
   "outputs": [
    {
     "data": {
      "text/plain": [
       "'objective course provide understanding financial accounting fundamentals prospective consumers corporate financial information, managers, stockholders, financial analysts, creditors. course focuses understanding economic events like corporate investments, financing transactions operating activities recorded three main financial statements (i.e., income statement, balance sheet, statement cash flows). along way, students develop technical skills needed analyze corporate financial statements disclosures use financial analysis, interpret accounting standards managerial incentives affect financial reporting process. course recommended students want in-depth overview financial accounting required understanding firm performance potential future risks analysis reported financial information, students intending go security analysis investment banking.'"
      ]
     },
     "execution_count": 114,
     "metadata": {},
     "output_type": "execute_result"
    }
   ],
   "source": [
    "courses_df['description'][10]"
   ]
  },
  {
   "cell_type": "code",
   "execution_count": 115,
   "metadata": {},
   "outputs": [],
   "source": [
    "courses_df['description'] = courses_df.description.apply(func=remove_punctuation)"
   ]
  },
  {
   "cell_type": "code",
   "execution_count": 116,
   "metadata": {},
   "outputs": [
    {
     "data": {
      "text/plain": [
       "'objective course provide understanding financial accounting fundamentals prospective consumers corporate financial information managers stockholders financial analysts creditors course focuses understanding economic events like corporate investments financing transactions operating activities recorded three main financial statements i e income statement balance sheet statement cash flows along way students develop technical skills needed analyze corporate financial statements disclosures use financial analysis interpret accounting standards managerial incentives affect financial reporting process course recommended students want in depth overview financial accounting required understanding firm performance potential future risks analysis reported financial information students intending go security analysis investment banking'"
      ]
     },
     "execution_count": 116,
     "metadata": {},
     "output_type": "execute_result"
    }
   ],
   "source": [
    "courses_df['description'][10]"
   ]
  },
  {
   "cell_type": "code",
   "execution_count": 117,
   "metadata": {},
   "outputs": [],
   "source": [
    "courses_df['description'] = courses_df.description.apply(func=stem_words)"
   ]
  },
  {
   "cell_type": "code",
   "execution_count": 118,
   "metadata": {},
   "outputs": [
    {
     "data": {
      "text/plain": [
       "'object cours provid understand financi account fundament prospect consum corpor financi inform manag stockhold financi analyst creditor cours focus understand econom event like corpor invest financ transact oper activ record three main financi statement i e incom statement balanc sheet statement cash flow along way student develop technic skill need analyz corpor financi statement disclosur use financi analysi interpret account standard manageri incent affect financi report process cours recommend student want in depth overview financi account requir understand firm perform potenti futur risk analysi report financi inform student intend go secur analysi invest bank'"
      ]
     },
     "execution_count": 118,
     "metadata": {},
     "output_type": "execute_result"
    }
   ],
   "source": [
    "courses_df['description'][10]"
   ]
  },
  {
   "cell_type": "code",
   "execution_count": 119,
   "metadata": {},
   "outputs": [],
   "source": [
    "courses_df['name'] = courses_df.name.apply(func=make_lower_case)\n",
    "courses_df['name'] = courses_df.name.apply(func=remove_stop_words)\n",
    "courses_df['name'] = courses_df.name.apply(func=remove_punctuation)\n",
    "courses_df['name'] = courses_df.name.apply(func=stem_words)"
   ]
  },
  {
   "cell_type": "code",
   "execution_count": 120,
   "metadata": {},
   "outputs": [
    {
     "data": {
      "text/html": [
       "<div>\n",
       "<style scoped>\n",
       "    .dataframe tbody tr th:only-of-type {\n",
       "        vertical-align: middle;\n",
       "    }\n",
       "\n",
       "    .dataframe tbody tr th {\n",
       "        vertical-align: top;\n",
       "    }\n",
       "\n",
       "    .dataframe thead th {\n",
       "        text-align: right;\n",
       "    }\n",
       "</style>\n",
       "<table border=\"1\" class=\"dataframe\">\n",
       "  <thead>\n",
       "    <tr style=\"text-align: right;\">\n",
       "      <th></th>\n",
       "      <th>course_quality</th>\n",
       "      <th>description</th>\n",
       "      <th>difficulty</th>\n",
       "      <th>name</th>\n",
       "      <th>id</th>\n",
       "    </tr>\n",
       "  </thead>\n",
       "  <tbody>\n",
       "    <tr>\n",
       "      <th>0</th>\n",
       "      <td>2.50</td>\n",
       "      <td>seminar design introduc student major issu pro...</td>\n",
       "      <td>3.33</td>\n",
       "      <td>problem greek histori archaic classic</td>\n",
       "      <td>ANCH-535</td>\n",
       "    </tr>\n",
       "    <tr>\n",
       "      <th>1</th>\n",
       "      <td>2.80</td>\n",
       "      <td>topic vari</td>\n",
       "      <td>2.60</td>\n",
       "      <td>topic greek roman art borderlin roman provinci...</td>\n",
       "      <td>ARTH-525</td>\n",
       "    </tr>\n",
       "    <tr>\n",
       "      <th>2</th>\n",
       "      <td>3.00</td>\n",
       "      <td>topic vari</td>\n",
       "      <td>3.25</td>\n",
       "      <td>topic art al andalus textil design trade mean</td>\n",
       "      <td>ARTH-538</td>\n",
       "    </tr>\n",
       "    <tr>\n",
       "      <th>3</th>\n",
       "      <td>2.30</td>\n",
       "      <td>digit method allow archaeologist approach rese...</td>\n",
       "      <td>2.80</td>\n",
       "      <td>int digit archaeolog</td>\n",
       "      <td>CLST-362</td>\n",
       "    </tr>\n",
       "    <tr>\n",
       "      <th>4</th>\n",
       "      <td>3.50</td>\n",
       "      <td>cours intend familiar new graduat student coll...</td>\n",
       "      <td>2.40</td>\n",
       "      <td>materi method mediterranean archaeolog</td>\n",
       "      <td>CLST-526</td>\n",
       "    </tr>\n",
       "    <tr>\n",
       "      <th>5</th>\n",
       "      <td>3.00</td>\n",
       "      <td>cours expos student digit method investig past...</td>\n",
       "      <td>2.75</td>\n",
       "      <td>digit explortn past</td>\n",
       "      <td>NELC-320</td>\n",
       "    </tr>\n",
       "    <tr>\n",
       "      <th>6</th>\n",
       "      <td>2.74</td>\n",
       "      <td>cours introduct basic concept standard under f...</td>\n",
       "      <td>3.28</td>\n",
       "      <td>acct financi report</td>\n",
       "      <td>ACCT-101</td>\n",
       "    </tr>\n",
       "    <tr>\n",
       "      <th>7</th>\n",
       "      <td>1.32</td>\n",
       "      <td>first part cours present altern method prepar ...</td>\n",
       "      <td>3.17</td>\n",
       "      <td>strateg cost analysi</td>\n",
       "      <td>ACCT-102</td>\n",
       "    </tr>\n",
       "    <tr>\n",
       "      <th>8</th>\n",
       "      <td>2.45</td>\n",
       "      <td>cours build knowledg obtain introductori finan...</td>\n",
       "      <td>3.14</td>\n",
       "      <td>fin measur disclo</td>\n",
       "      <td>ACCT-212</td>\n",
       "    </tr>\n",
       "    <tr>\n",
       "      <th>9</th>\n",
       "      <td>2.82</td>\n",
       "      <td>cours student learn analyz firm financi statem...</td>\n",
       "      <td>2.81</td>\n",
       "      <td>acct busi analysi</td>\n",
       "      <td>ACCT-242</td>\n",
       "    </tr>\n",
       "  </tbody>\n",
       "</table>\n",
       "</div>"
      ],
      "text/plain": [
       "  course_quality                                        description  \\\n",
       "0           2.50  seminar design introduc student major issu pro...   \n",
       "1           2.80                                         topic vari   \n",
       "2           3.00                                         topic vari   \n",
       "3           2.30  digit method allow archaeologist approach rese...   \n",
       "4           3.50  cours intend familiar new graduat student coll...   \n",
       "5           3.00  cours expos student digit method investig past...   \n",
       "6           2.74  cours introduct basic concept standard under f...   \n",
       "7           1.32  first part cours present altern method prepar ...   \n",
       "8           2.45  cours build knowledg obtain introductori finan...   \n",
       "9           2.82  cours student learn analyz firm financi statem...   \n",
       "\n",
       "  difficulty                                               name        id  \n",
       "0       3.33              problem greek histori archaic classic  ANCH-535  \n",
       "1       2.60  topic greek roman art borderlin roman provinci...  ARTH-525  \n",
       "2       3.25      topic art al andalus textil design trade mean  ARTH-538  \n",
       "3       2.80                               int digit archaeolog  CLST-362  \n",
       "4       2.40             materi method mediterranean archaeolog  CLST-526  \n",
       "5       2.75                                digit explortn past  NELC-320  \n",
       "6       3.28                                acct financi report  ACCT-101  \n",
       "7       3.17                               strateg cost analysi  ACCT-102  \n",
       "8       3.14                                  fin measur disclo  ACCT-212  \n",
       "9       2.81                                  acct busi analysi  ACCT-242  "
      ]
     },
     "execution_count": 120,
     "metadata": {},
     "output_type": "execute_result"
    }
   ],
   "source": [
    "courses_df.head(10)"
   ]
  },
  {
   "cell_type": "markdown",
   "metadata": {},
   "source": [
    "# TF-IDF Model"
   ]
  },
  {
   "cell_type": "code",
   "execution_count": 121,
   "metadata": {},
   "outputs": [],
   "source": [
    "courses_df['full_text'] = courses_df['name'] + ' ' + courses_df['description']"
   ]
  },
  {
   "cell_type": "code",
   "execution_count": 122,
   "metadata": {},
   "outputs": [
    {
     "data": {
      "text/html": [
       "<div>\n",
       "<style scoped>\n",
       "    .dataframe tbody tr th:only-of-type {\n",
       "        vertical-align: middle;\n",
       "    }\n",
       "\n",
       "    .dataframe tbody tr th {\n",
       "        vertical-align: top;\n",
       "    }\n",
       "\n",
       "    .dataframe thead th {\n",
       "        text-align: right;\n",
       "    }\n",
       "</style>\n",
       "<table border=\"1\" class=\"dataframe\">\n",
       "  <thead>\n",
       "    <tr style=\"text-align: right;\">\n",
       "      <th></th>\n",
       "      <th>course_quality</th>\n",
       "      <th>description</th>\n",
       "      <th>difficulty</th>\n",
       "      <th>name</th>\n",
       "      <th>id</th>\n",
       "      <th>full_text</th>\n",
       "    </tr>\n",
       "  </thead>\n",
       "  <tbody>\n",
       "    <tr>\n",
       "      <th>0</th>\n",
       "      <td>2.50</td>\n",
       "      <td>seminar design introduc student major issu pro...</td>\n",
       "      <td>3.33</td>\n",
       "      <td>problem greek histori archaic classic</td>\n",
       "      <td>ANCH-535</td>\n",
       "      <td>problem greek histori archaic classic seminar ...</td>\n",
       "    </tr>\n",
       "  </tbody>\n",
       "</table>\n",
       "</div>"
      ],
      "text/plain": [
       "  course_quality                                        description  \\\n",
       "0           2.50  seminar design introduc student major issu pro...   \n",
       "\n",
       "  difficulty                                   name        id  \\\n",
       "0       3.33  problem greek histori archaic classic  ANCH-535   \n",
       "\n",
       "                                           full_text  \n",
       "0  problem greek histori archaic classic seminar ...  "
      ]
     },
     "execution_count": 122,
     "metadata": {},
     "output_type": "execute_result"
    }
   ],
   "source": [
    "courses_df.head(1)"
   ]
  },
  {
   "cell_type": "code",
   "execution_count": 132,
   "metadata": {},
   "outputs": [
    {
     "name": "stdout",
     "output_type": "stream",
     "text": [
      "(1350, 10000)\n"
     ]
    }
   ],
   "source": [
    "#Fit TFIDF \n",
    "# Convert raw text describing courses to a matrix of TF-IDF features.\n",
    "tf = TfidfVectorizer(analyzer='word', \n",
    "                     min_df=2,\n",
    "                     ngram_range=(1, 2),\n",
    "                     stop_words='english',\n",
    "                     max_features=10000,)\n",
    "tf.fit(courses_df['full_text'])\n",
    "\n",
    "#Transform full_text to document-term matrix.\n",
    "tfidf_matrix = tf.transform(courses_df['full_text'])\n",
    "pickle.dump(tf, open(\"models/tfidf_model.pkl\", \"wb\"))\n",
    "\n",
    "print(tfidf_matrix.shape)"
   ]
  },
  {
   "cell_type": "code",
   "execution_count": null,
   "metadata": {},
   "outputs": [],
   "source": []
  }
 ],
 "metadata": {
  "kernelspec": {
   "display_name": "Python 3",
   "language": "python",
   "name": "python3"
  },
  "language_info": {
   "codemirror_mode": {
    "name": "ipython",
    "version": 3
   },
   "file_extension": ".py",
   "mimetype": "text/x-python",
   "name": "python",
   "nbconvert_exporter": "python",
   "pygments_lexer": "ipython3",
   "version": "3.7.3"
  }
 },
 "nbformat": 4,
 "nbformat_minor": 2
}
